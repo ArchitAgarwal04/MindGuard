{
 "cells": [
  {
   "cell_type": "code",
   "execution_count": 1,
   "id": "7ff621d2",
   "metadata": {
    "execution": {
     "iopub.execute_input": "2025-03-05T20:26:03.420820Z",
     "iopub.status.busy": "2025-03-05T20:26:03.420820Z",
     "iopub.status.idle": "2025-03-05T20:26:03.428109Z",
     "shell.execute_reply": "2025-03-05T20:26:03.428109Z"
    },
    "papermill": {
     "duration": 0.011706,
     "end_time": "2025-03-05T20:26:03.428109",
     "exception": false,
     "start_time": "2025-03-05T20:26:03.416403",
     "status": "completed"
    },
    "tags": [
     "injected-parameters"
    ]
   },
   "outputs": [],
   "source": [
    "# Parameters\n",
    "image_path = \"page_2.jpg\"\n"
   ]
  },
  {
   "cell_type": "code",
   "execution_count": 1,
   "id": "929d3768",
   "metadata": {
    "execution": {
     "iopub.execute_input": "2025-03-05T20:26:03.432133Z",
     "iopub.status.busy": "2025-03-05T20:26:03.432133Z",
     "iopub.status.idle": "2025-03-05T20:26:04.910914Z",
     "shell.execute_reply": "2025-03-05T20:26:04.910914Z"
    },
    "papermill": {
     "duration": 1.478781,
     "end_time": "2025-03-05T20:26:04.910914",
     "exception": false,
     "start_time": "2025-03-05T20:26:03.432133",
     "status": "completed"
    },
    "tags": []
   },
   "outputs": [
    {
     "name": "stdout",
     "output_type": "stream",
     "text": [
      "Processing: page_0.jpg\n",
      "Error processing page_0.jpg: [WinError 740] The requested operation requires elevation\n",
      "Processing: page_1.jpg\n",
      "Error processing page_1.jpg: [WinError 740] The requested operation requires elevation\n",
      "Processing: page_2.jpg\n",
      "Error processing page_2.jpg: [WinError 740] The requested operation requires elevation\n",
      "\n",
      "Final Extracted Text:\n",
      "\n",
      "\n"
     ]
    }
   ],
   "source": [
    "import cv2\n",
    "import pytesseract\n",
    "import glob\n",
    "\n",
    "# Set the Tesseract path (Windows users)\n",
    "# pytesseract.pytesseract.tesseract_cmd = r\"C:\\Program Files\\Tesseract-OCR\\tesseract.exe\"\n",
    "\n",
    "image_files = sorted(glob.glob(\"page_*.jpg\"))  # Sort ensures correct order\n",
    "\n",
    "# Define separator\n",
    "separator = \"\\n\" + \"=\" * 50 + \"\\n\"  # 50 equal signs for separation\n",
    "\n",
    "# Store extracted text from all images\n",
    "all_text = []\n",
    "\n",
    "for image_path in image_files:\n",
    "    try:\n",
    "        print(f\"Processing: {image_path}\")\n",
    "        img = cv2.imread(image_path)\n",
    "\n",
    "        if img is None:\n",
    "            print(f\"Error: Could not read {image_path}\")\n",
    "            continue\n",
    "\n",
    "        # Convert to grayscale (improves OCR accuracy)\n",
    "        gray = cv2.cvtColor(img, cv2.COLOR_BGR2GRAY)\n",
    "\n",
    "        # Apply thresholding\n",
    "        gray = cv2.threshold(gray, 0, 255, cv2.THRESH_BINARY + cv2.THRESH_OTSU)[1]\n",
    "\n",
    "        # Perform OCR\n",
    "        text = pytesseract.image_to_string(gray)\n",
    "\n",
    "        # Append result with file name\n",
    "        all_text.append(f\"Page: {image_path}\\n{text}\")\n",
    "\n",
    "    except Exception as e:\n",
    "        print(f\"Error processing {image_path}: {e}\")\n",
    "\n",
    "# Combine all text with separator\n",
    "final_output = separator.join(all_text)\n",
    "\n",
    "# Save output to a file\n",
    "with open(\"final_output.txt\", \"w\", encoding=\"utf-8\") as f:\n",
    "    f.write(final_output)\n",
    "\n",
    "# Print output\n",
    "print(\"\\nFinal Extracted Text:\\n\")\n",
    "print(final_output)\n"
   ]
  }
 ],
 "metadata": {
  "kernelspec": {
   "display_name": "base",
   "language": "python",
   "name": "python3"
  },
  "language_info": {
   "codemirror_mode": {
    "name": "ipython",
    "version": 3
   },
   "file_extension": ".py",
   "mimetype": "text/x-python",
   "name": "python",
   "nbconvert_exporter": "python",
   "pygments_lexer": "ipython3",
   "version": "3.12.4"
  },
  "papermill": {
   "default_parameters": {},
   "duration": 7.161648,
   "end_time": "2025-03-05T20:26:07.863906",
   "environment_variables": {},
   "exception": null,
   "input_path": "ocr2.ipynb",
   "output_path": "ocr_output.ipynb",
   "parameters": {
    "image_path": "page_2.jpg"
   },
   "start_time": "2025-03-05T20:26:00.702258",
   "version": "2.6.0"
  }
 },
 "nbformat": 4,
 "nbformat_minor": 5
}
